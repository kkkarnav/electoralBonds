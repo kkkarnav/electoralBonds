{
 "cells": [
  {
   "cell_type": "code",
   "execution_count": 91,
   "metadata": {
    "collapsed": true
   },
   "outputs": [],
   "source": [
    "import pandas as pd\n",
    "from fuzzywuzzy import process"
   ]
  },
  {
   "cell_type": "code",
   "execution_count": 92,
   "outputs": [],
   "source": [
    "df_purchase = pd.read_csv(\"./purchases2.csv\")\n",
    "df_cash = pd.read_csv(\"./encashments2.csv\")"
   ],
   "metadata": {
    "collapsed": false,
    "pycharm": {
     "name": "#%%\n"
    }
   }
  },
  {
   "cell_type": "code",
   "execution_count": 93,
   "outputs": [
    {
     "data": {
      "text/plain": "      Sr No.      Reference No  (URN) Journal Date        Date Date of Expiry  \\\n0          1  00001201904120000001166  12/Apr/2019  2019/04/12    26/Apr/2019   \n1          2  00001201904120000001166  12/Apr/2019  2019/04/12    26/Apr/2019   \n2          3  00001201904120000001166  12/Apr/2019  2019/04/12    26/Apr/2019   \n3          4  00001201904120000001166  12/Apr/2019  2019/04/12    26/Apr/2019   \n4          5  00001201904120000001166  12/Apr/2019  2019/04/12    26/Apr/2019   \n...      ...                      ...          ...         ...            ...   \n18866  18867  00001202401110000003729  11/Jan/2024  2024/01/11    25/Jan/2024   \n18867  18868  00001202401110000003729  11/Jan/2024  2024/01/11    25/Jan/2024   \n18868  18869  00001202401110000003729  11/Jan/2024  2024/01/11    25/Jan/2024   \n18869  18870  00001202401110000003729  11/Jan/2024  2024/01/11    25/Jan/2024   \n18870  18871  00001202401110000003729  11/Jan/2024  2024/01/11    25/Jan/2024   \n\n                               Entity Prefix Bond\\rNumber  Denominations  \\\n0                 A B C INDIA LIMITED     TL        11448           0.10   \n1                 A B C INDIA LIMITED     TL        11447           0.10   \n2                 A B C INDIA LIMITED     TL        11441           0.10   \n3                 A B C INDIA LIMITED     OL         1113           0.01   \n4                 A B C INDIA LIMITED     OL         1118           0.01   \n...                               ...    ...          ...            ...   \n18866  WESTWELL GASES PRIVATE LIMITED     OC        15695           1.00   \n18867  WESTWELL GASES PRIVATE LIMITED     OC        15693           1.00   \n18868  WESTWELL GASES PRIVATE LIMITED     OC        15697           1.00   \n18869  WESTWELL GASES PRIVATE LIMITED     OC        17803           1.00   \n18870  WESTWELL GASES PRIVATE LIMITED     OC        15691           1.00   \n\n      Issue Branch Code Issue Teller Status      UBN  \n0                 00001      5899230   Paid  TL11448  \n1                 00001      5899230   Paid  TL11447  \n2                 00001      5899230   Paid  TL11441  \n3                 00001      5899230   Paid   OL1113  \n4                 00001      5899230   Paid   OL1118  \n...                 ...          ...    ...      ...  \n18866             00001      5898161   Paid  OC15695  \n18867             00001      5898161   Paid  OC15693  \n18868             00001      5898161   Paid  OC15697  \n18869             00001      5898161   Paid  OC17803  \n18870             00001      5898161   Paid  OC15691  \n\n[18871 rows x 13 columns]",
      "text/html": "<div>\n<style scoped>\n    .dataframe tbody tr th:only-of-type {\n        vertical-align: middle;\n    }\n\n    .dataframe tbody tr th {\n        vertical-align: top;\n    }\n\n    .dataframe thead th {\n        text-align: right;\n    }\n</style>\n<table border=\"1\" class=\"dataframe\">\n  <thead>\n    <tr style=\"text-align: right;\">\n      <th></th>\n      <th>Sr No.</th>\n      <th>Reference No  (URN)</th>\n      <th>Journal Date</th>\n      <th>Date</th>\n      <th>Date of Expiry</th>\n      <th>Entity</th>\n      <th>Prefix</th>\n      <th>Bond\\rNumber</th>\n      <th>Denominations</th>\n      <th>Issue Branch Code</th>\n      <th>Issue Teller</th>\n      <th>Status</th>\n      <th>UBN</th>\n    </tr>\n  </thead>\n  <tbody>\n    <tr>\n      <th>0</th>\n      <td>1</td>\n      <td>00001201904120000001166</td>\n      <td>12/Apr/2019</td>\n      <td>2019/04/12</td>\n      <td>26/Apr/2019</td>\n      <td>A B C INDIA LIMITED</td>\n      <td>TL</td>\n      <td>11448</td>\n      <td>0.10</td>\n      <td>00001</td>\n      <td>5899230</td>\n      <td>Paid</td>\n      <td>TL11448</td>\n    </tr>\n    <tr>\n      <th>1</th>\n      <td>2</td>\n      <td>00001201904120000001166</td>\n      <td>12/Apr/2019</td>\n      <td>2019/04/12</td>\n      <td>26/Apr/2019</td>\n      <td>A B C INDIA LIMITED</td>\n      <td>TL</td>\n      <td>11447</td>\n      <td>0.10</td>\n      <td>00001</td>\n      <td>5899230</td>\n      <td>Paid</td>\n      <td>TL11447</td>\n    </tr>\n    <tr>\n      <th>2</th>\n      <td>3</td>\n      <td>00001201904120000001166</td>\n      <td>12/Apr/2019</td>\n      <td>2019/04/12</td>\n      <td>26/Apr/2019</td>\n      <td>A B C INDIA LIMITED</td>\n      <td>TL</td>\n      <td>11441</td>\n      <td>0.10</td>\n      <td>00001</td>\n      <td>5899230</td>\n      <td>Paid</td>\n      <td>TL11441</td>\n    </tr>\n    <tr>\n      <th>3</th>\n      <td>4</td>\n      <td>00001201904120000001166</td>\n      <td>12/Apr/2019</td>\n      <td>2019/04/12</td>\n      <td>26/Apr/2019</td>\n      <td>A B C INDIA LIMITED</td>\n      <td>OL</td>\n      <td>1113</td>\n      <td>0.01</td>\n      <td>00001</td>\n      <td>5899230</td>\n      <td>Paid</td>\n      <td>OL1113</td>\n    </tr>\n    <tr>\n      <th>4</th>\n      <td>5</td>\n      <td>00001201904120000001166</td>\n      <td>12/Apr/2019</td>\n      <td>2019/04/12</td>\n      <td>26/Apr/2019</td>\n      <td>A B C INDIA LIMITED</td>\n      <td>OL</td>\n      <td>1118</td>\n      <td>0.01</td>\n      <td>00001</td>\n      <td>5899230</td>\n      <td>Paid</td>\n      <td>OL1118</td>\n    </tr>\n    <tr>\n      <th>...</th>\n      <td>...</td>\n      <td>...</td>\n      <td>...</td>\n      <td>...</td>\n      <td>...</td>\n      <td>...</td>\n      <td>...</td>\n      <td>...</td>\n      <td>...</td>\n      <td>...</td>\n      <td>...</td>\n      <td>...</td>\n      <td>...</td>\n    </tr>\n    <tr>\n      <th>18866</th>\n      <td>18867</td>\n      <td>00001202401110000003729</td>\n      <td>11/Jan/2024</td>\n      <td>2024/01/11</td>\n      <td>25/Jan/2024</td>\n      <td>WESTWELL GASES PRIVATE LIMITED</td>\n      <td>OC</td>\n      <td>15695</td>\n      <td>1.00</td>\n      <td>00001</td>\n      <td>5898161</td>\n      <td>Paid</td>\n      <td>OC15695</td>\n    </tr>\n    <tr>\n      <th>18867</th>\n      <td>18868</td>\n      <td>00001202401110000003729</td>\n      <td>11/Jan/2024</td>\n      <td>2024/01/11</td>\n      <td>25/Jan/2024</td>\n      <td>WESTWELL GASES PRIVATE LIMITED</td>\n      <td>OC</td>\n      <td>15693</td>\n      <td>1.00</td>\n      <td>00001</td>\n      <td>5898161</td>\n      <td>Paid</td>\n      <td>OC15693</td>\n    </tr>\n    <tr>\n      <th>18868</th>\n      <td>18869</td>\n      <td>00001202401110000003729</td>\n      <td>11/Jan/2024</td>\n      <td>2024/01/11</td>\n      <td>25/Jan/2024</td>\n      <td>WESTWELL GASES PRIVATE LIMITED</td>\n      <td>OC</td>\n      <td>15697</td>\n      <td>1.00</td>\n      <td>00001</td>\n      <td>5898161</td>\n      <td>Paid</td>\n      <td>OC15697</td>\n    </tr>\n    <tr>\n      <th>18869</th>\n      <td>18870</td>\n      <td>00001202401110000003729</td>\n      <td>11/Jan/2024</td>\n      <td>2024/01/11</td>\n      <td>25/Jan/2024</td>\n      <td>WESTWELL GASES PRIVATE LIMITED</td>\n      <td>OC</td>\n      <td>17803</td>\n      <td>1.00</td>\n      <td>00001</td>\n      <td>5898161</td>\n      <td>Paid</td>\n      <td>OC17803</td>\n    </tr>\n    <tr>\n      <th>18870</th>\n      <td>18871</td>\n      <td>00001202401110000003729</td>\n      <td>11/Jan/2024</td>\n      <td>2024/01/11</td>\n      <td>25/Jan/2024</td>\n      <td>WESTWELL GASES PRIVATE LIMITED</td>\n      <td>OC</td>\n      <td>15691</td>\n      <td>1.00</td>\n      <td>00001</td>\n      <td>5898161</td>\n      <td>Paid</td>\n      <td>OC15691</td>\n    </tr>\n  </tbody>\n</table>\n<p>18871 rows × 13 columns</p>\n</div>"
     },
     "execution_count": 93,
     "metadata": {},
     "output_type": "execute_result"
    }
   ],
   "source": [
    "df_purchase.rename(columns={'Date of\\rPurchase': 'Date', 'Name of the Purchaser': 'Entity'}, inplace=True)\n",
    "df_purchase = df_purchase[df_purchase[\"Sr No.\"] != \"Sr No.\"]\n",
    "df_purchase = df_purchase.reset_index().drop([\"index\"], axis=1)\n",
    "df_purchase[\"Date\"] = pd.to_datetime(df_purchase[\"Date\"]).dt.strftime('%Y/%m/%d')\n",
    "df_purchase[\"UBN\"] = df_purchase[\"Prefix\"] + df_purchase[\"Bond\\rNumber\"]\n",
    "df_purchase[\"Denominations\"] = df_purchase[\"Denominations\"].apply(lambda x: float(x.replace(\",\", \"\"))/10000000)\n",
    "df_purchase"
   ],
   "metadata": {
    "collapsed": false,
    "pycharm": {
     "name": "#%%\n"
    }
   }
  },
  {
   "cell_type": "code",
   "execution_count": 94,
   "outputs": [
    {
     "data": {
      "text/plain": "      Sr No.        Date                                    Entity  \\\n0          1  2019/04/12  ALL INDIA ANNA DRAVIDA MUNNETRA KAZHAGAM   \n1          2  2019/04/12  ALL INDIA ANNA DRAVIDA MUNNETRA KAZHAGAM   \n2          3  2019/04/12  ALL INDIA ANNA DRAVIDA MUNNETRA KAZHAGAM   \n3          4  2019/04/12  ALL INDIA ANNA DRAVIDA MUNNETRA KAZHAGAM   \n4          5  2019/04/12  ALL INDIA ANNA DRAVIDA MUNNETRA KAZHAGAM   \n...      ...         ...                                       ...   \n20416  20417  2024/01/24                            JANASENA PARTY   \n20417  20418  2024/01/24                            JANASENA PARTY   \n20418  20419  2024/01/24                            JANASENA PARTY   \n20419  20420  2024/01/24                            JANASENA PARTY   \n20420  20421  2024/01/24                            JANASENA PARTY   \n\n      Account no. of\\rPolitical Party Prefix Bond\\rNumber  Denominations  \\\n0                         *******5199     OC          775            1.0   \n1                         *******5199     OC         3975            1.0   \n2                         *******5199     OC         3967            1.0   \n3                         *******5199     TL        10418            0.1   \n4                         *******5199     TL          126            0.1   \n...                               ...    ...          ...            ...   \n20416                     *******3929     TL         2619            0.1   \n20417                     *******3929     TL         2608            0.1   \n20418                     *******3929     TL         2633            0.1   \n20419                     *******3929     TL         2627            0.1   \n20420                     *******3929     TL         2631            0.1   \n\n      Pay Branch\\rCode Pay Teller      UBN  \n0                00800    2770121    OC775  \n1                00800    2770121   OC3975  \n2                00800    2770121   OC3967  \n3                00800    2770121  TL10418  \n4                00800    2770121    TL126  \n...                ...        ...      ...  \n20416            00847    7620160   TL2619  \n20417            00847    7620160   TL2608  \n20418            00847    7620160   TL2633  \n20419            00847    7620160   TL2627  \n20420            00847    7620160   TL2631  \n\n[20421 rows x 10 columns]",
      "text/html": "<div>\n<style scoped>\n    .dataframe tbody tr th:only-of-type {\n        vertical-align: middle;\n    }\n\n    .dataframe tbody tr th {\n        vertical-align: top;\n    }\n\n    .dataframe thead th {\n        text-align: right;\n    }\n</style>\n<table border=\"1\" class=\"dataframe\">\n  <thead>\n    <tr style=\"text-align: right;\">\n      <th></th>\n      <th>Sr No.</th>\n      <th>Date</th>\n      <th>Entity</th>\n      <th>Account no. of\\rPolitical Party</th>\n      <th>Prefix</th>\n      <th>Bond\\rNumber</th>\n      <th>Denominations</th>\n      <th>Pay Branch\\rCode</th>\n      <th>Pay Teller</th>\n      <th>UBN</th>\n    </tr>\n  </thead>\n  <tbody>\n    <tr>\n      <th>0</th>\n      <td>1</td>\n      <td>2019/04/12</td>\n      <td>ALL INDIA ANNA DRAVIDA MUNNETRA KAZHAGAM</td>\n      <td>*******5199</td>\n      <td>OC</td>\n      <td>775</td>\n      <td>1.0</td>\n      <td>00800</td>\n      <td>2770121</td>\n      <td>OC775</td>\n    </tr>\n    <tr>\n      <th>1</th>\n      <td>2</td>\n      <td>2019/04/12</td>\n      <td>ALL INDIA ANNA DRAVIDA MUNNETRA KAZHAGAM</td>\n      <td>*******5199</td>\n      <td>OC</td>\n      <td>3975</td>\n      <td>1.0</td>\n      <td>00800</td>\n      <td>2770121</td>\n      <td>OC3975</td>\n    </tr>\n    <tr>\n      <th>2</th>\n      <td>3</td>\n      <td>2019/04/12</td>\n      <td>ALL INDIA ANNA DRAVIDA MUNNETRA KAZHAGAM</td>\n      <td>*******5199</td>\n      <td>OC</td>\n      <td>3967</td>\n      <td>1.0</td>\n      <td>00800</td>\n      <td>2770121</td>\n      <td>OC3967</td>\n    </tr>\n    <tr>\n      <th>3</th>\n      <td>4</td>\n      <td>2019/04/12</td>\n      <td>ALL INDIA ANNA DRAVIDA MUNNETRA KAZHAGAM</td>\n      <td>*******5199</td>\n      <td>TL</td>\n      <td>10418</td>\n      <td>0.1</td>\n      <td>00800</td>\n      <td>2770121</td>\n      <td>TL10418</td>\n    </tr>\n    <tr>\n      <th>4</th>\n      <td>5</td>\n      <td>2019/04/12</td>\n      <td>ALL INDIA ANNA DRAVIDA MUNNETRA KAZHAGAM</td>\n      <td>*******5199</td>\n      <td>TL</td>\n      <td>126</td>\n      <td>0.1</td>\n      <td>00800</td>\n      <td>2770121</td>\n      <td>TL126</td>\n    </tr>\n    <tr>\n      <th>...</th>\n      <td>...</td>\n      <td>...</td>\n      <td>...</td>\n      <td>...</td>\n      <td>...</td>\n      <td>...</td>\n      <td>...</td>\n      <td>...</td>\n      <td>...</td>\n      <td>...</td>\n    </tr>\n    <tr>\n      <th>20416</th>\n      <td>20417</td>\n      <td>2024/01/24</td>\n      <td>JANASENA PARTY</td>\n      <td>*******3929</td>\n      <td>TL</td>\n      <td>2619</td>\n      <td>0.1</td>\n      <td>00847</td>\n      <td>7620160</td>\n      <td>TL2619</td>\n    </tr>\n    <tr>\n      <th>20417</th>\n      <td>20418</td>\n      <td>2024/01/24</td>\n      <td>JANASENA PARTY</td>\n      <td>*******3929</td>\n      <td>TL</td>\n      <td>2608</td>\n      <td>0.1</td>\n      <td>00847</td>\n      <td>7620160</td>\n      <td>TL2608</td>\n    </tr>\n    <tr>\n      <th>20418</th>\n      <td>20419</td>\n      <td>2024/01/24</td>\n      <td>JANASENA PARTY</td>\n      <td>*******3929</td>\n      <td>TL</td>\n      <td>2633</td>\n      <td>0.1</td>\n      <td>00847</td>\n      <td>7620160</td>\n      <td>TL2633</td>\n    </tr>\n    <tr>\n      <th>20419</th>\n      <td>20420</td>\n      <td>2024/01/24</td>\n      <td>JANASENA PARTY</td>\n      <td>*******3929</td>\n      <td>TL</td>\n      <td>2627</td>\n      <td>0.1</td>\n      <td>00847</td>\n      <td>7620160</td>\n      <td>TL2627</td>\n    </tr>\n    <tr>\n      <th>20420</th>\n      <td>20421</td>\n      <td>2024/01/24</td>\n      <td>JANASENA PARTY</td>\n      <td>*******3929</td>\n      <td>TL</td>\n      <td>2631</td>\n      <td>0.1</td>\n      <td>00847</td>\n      <td>7620160</td>\n      <td>TL2631</td>\n    </tr>\n  </tbody>\n</table>\n<p>20421 rows × 10 columns</p>\n</div>"
     },
     "execution_count": 94,
     "metadata": {},
     "output_type": "execute_result"
    }
   ],
   "source": [
    "df_cash.rename(columns={'Date of\\rEncashment': 'Date', 'Name of the Political Party': 'Entity'}, inplace=True)\n",
    "df_cash = df_cash[df_cash[\"Sr No.\"] != \"Sr No.\"]\n",
    "df_cash = df_cash.reset_index().drop([\"index\"], axis=1)\n",
    "df_cash[\"Date\"] = pd.to_datetime(df_cash[\"Date\"]).dt.strftime('%Y/%m/%d')\n",
    "df_cash[\"UBN\"] = df_cash[\"Prefix\"] + df_cash[\"Bond\\rNumber\"]\n",
    "df_cash[\"Denominations\"] = df_cash[\"Denominations\"].apply(lambda x: float(x.replace(\",\", \"\"))/10000000)\n",
    "df_cash"
   ],
   "metadata": {
    "collapsed": false,
    "pycharm": {
     "name": "#%%\n"
    }
   }
  },
  {
   "cell_type": "code",
   "execution_count": 95,
   "outputs": [
    {
     "data": {
      "text/plain": "           UBN      Reference No  (URN) Date_Purchase   Date_Cash  \\\n0      TL11448  00001201904120000001166    2019/04/12  2019/04/25   \n1      TL11447  00001201904120000001166    2019/04/12  2019/04/25   \n2      TL11441  00001201904120000001166    2019/04/12  2019/04/25   \n3       OL1113  00001201904120000001166    2019/04/12  2019/04/25   \n4       OL1118  00001201904120000001166    2019/04/12  2019/04/25   \n...        ...                      ...           ...         ...   \n18736  OC15695  00001202401110000003729    2024/01/11  2024/01/23   \n18737  OC15693  00001202401110000003729    2024/01/11  2024/01/23   \n18738  OC15697  00001202401110000003729    2024/01/11  2024/01/23   \n18739  OC17803  00001202401110000003729    2024/01/11  2024/01/23   \n18740  OC15691  00001202401110000003729    2024/01/11  2024/01/23   \n\n                                Buyer                            Party Status  \\\n0                 A B C INDIA LIMITED           BHARATIYA JANATA PARTY   Paid   \n1                 A B C INDIA LIMITED           BHARATIYA JANATA PARTY   Paid   \n2                 A B C INDIA LIMITED           BHARATIYA JANATA PARTY   Paid   \n3                 A B C INDIA LIMITED           BHARATIYA JANATA PARTY   Paid   \n4                 A B C INDIA LIMITED           BHARATIYA JANATA PARTY   Paid   \n...                               ...                              ...    ...   \n18736  WESTWELL GASES PRIVATE LIMITED  DRAVIDA MUNNETRA KAZHAGAM (DMK)   Paid   \n18737  WESTWELL GASES PRIVATE LIMITED  DRAVIDA MUNNETRA KAZHAGAM (DMK)   Paid   \n18738  WESTWELL GASES PRIVATE LIMITED  DRAVIDA MUNNETRA KAZHAGAM (DMK)   Paid   \n18739  WESTWELL GASES PRIVATE LIMITED  DRAVIDA MUNNETRA KAZHAGAM (DMK)   Paid   \n18740  WESTWELL GASES PRIVATE LIMITED  DRAVIDA MUNNETRA KAZHAGAM (DMK)   Paid   \n\n       Denominations  \n0               0.10  \n1               0.10  \n2               0.10  \n3               0.01  \n4               0.01  \n...              ...  \n18736           1.00  \n18737           1.00  \n18738           1.00  \n18739           1.00  \n18740           1.00  \n\n[18741 rows x 8 columns]",
      "text/html": "<div>\n<style scoped>\n    .dataframe tbody tr th:only-of-type {\n        vertical-align: middle;\n    }\n\n    .dataframe tbody tr th {\n        vertical-align: top;\n    }\n\n    .dataframe thead th {\n        text-align: right;\n    }\n</style>\n<table border=\"1\" class=\"dataframe\">\n  <thead>\n    <tr style=\"text-align: right;\">\n      <th></th>\n      <th>UBN</th>\n      <th>Reference No  (URN)</th>\n      <th>Date_Purchase</th>\n      <th>Date_Cash</th>\n      <th>Buyer</th>\n      <th>Party</th>\n      <th>Status</th>\n      <th>Denominations</th>\n    </tr>\n  </thead>\n  <tbody>\n    <tr>\n      <th>0</th>\n      <td>TL11448</td>\n      <td>00001201904120000001166</td>\n      <td>2019/04/12</td>\n      <td>2019/04/25</td>\n      <td>A B C INDIA LIMITED</td>\n      <td>BHARATIYA JANATA PARTY</td>\n      <td>Paid</td>\n      <td>0.10</td>\n    </tr>\n    <tr>\n      <th>1</th>\n      <td>TL11447</td>\n      <td>00001201904120000001166</td>\n      <td>2019/04/12</td>\n      <td>2019/04/25</td>\n      <td>A B C INDIA LIMITED</td>\n      <td>BHARATIYA JANATA PARTY</td>\n      <td>Paid</td>\n      <td>0.10</td>\n    </tr>\n    <tr>\n      <th>2</th>\n      <td>TL11441</td>\n      <td>00001201904120000001166</td>\n      <td>2019/04/12</td>\n      <td>2019/04/25</td>\n      <td>A B C INDIA LIMITED</td>\n      <td>BHARATIYA JANATA PARTY</td>\n      <td>Paid</td>\n      <td>0.10</td>\n    </tr>\n    <tr>\n      <th>3</th>\n      <td>OL1113</td>\n      <td>00001201904120000001166</td>\n      <td>2019/04/12</td>\n      <td>2019/04/25</td>\n      <td>A B C INDIA LIMITED</td>\n      <td>BHARATIYA JANATA PARTY</td>\n      <td>Paid</td>\n      <td>0.01</td>\n    </tr>\n    <tr>\n      <th>4</th>\n      <td>OL1118</td>\n      <td>00001201904120000001166</td>\n      <td>2019/04/12</td>\n      <td>2019/04/25</td>\n      <td>A B C INDIA LIMITED</td>\n      <td>BHARATIYA JANATA PARTY</td>\n      <td>Paid</td>\n      <td>0.01</td>\n    </tr>\n    <tr>\n      <th>...</th>\n      <td>...</td>\n      <td>...</td>\n      <td>...</td>\n      <td>...</td>\n      <td>...</td>\n      <td>...</td>\n      <td>...</td>\n      <td>...</td>\n    </tr>\n    <tr>\n      <th>18736</th>\n      <td>OC15695</td>\n      <td>00001202401110000003729</td>\n      <td>2024/01/11</td>\n      <td>2024/01/23</td>\n      <td>WESTWELL GASES PRIVATE LIMITED</td>\n      <td>DRAVIDA MUNNETRA KAZHAGAM (DMK)</td>\n      <td>Paid</td>\n      <td>1.00</td>\n    </tr>\n    <tr>\n      <th>18737</th>\n      <td>OC15693</td>\n      <td>00001202401110000003729</td>\n      <td>2024/01/11</td>\n      <td>2024/01/23</td>\n      <td>WESTWELL GASES PRIVATE LIMITED</td>\n      <td>DRAVIDA MUNNETRA KAZHAGAM (DMK)</td>\n      <td>Paid</td>\n      <td>1.00</td>\n    </tr>\n    <tr>\n      <th>18738</th>\n      <td>OC15697</td>\n      <td>00001202401110000003729</td>\n      <td>2024/01/11</td>\n      <td>2024/01/23</td>\n      <td>WESTWELL GASES PRIVATE LIMITED</td>\n      <td>DRAVIDA MUNNETRA KAZHAGAM (DMK)</td>\n      <td>Paid</td>\n      <td>1.00</td>\n    </tr>\n    <tr>\n      <th>18739</th>\n      <td>OC17803</td>\n      <td>00001202401110000003729</td>\n      <td>2024/01/11</td>\n      <td>2024/01/23</td>\n      <td>WESTWELL GASES PRIVATE LIMITED</td>\n      <td>DRAVIDA MUNNETRA KAZHAGAM (DMK)</td>\n      <td>Paid</td>\n      <td>1.00</td>\n    </tr>\n    <tr>\n      <th>18740</th>\n      <td>OC15691</td>\n      <td>00001202401110000003729</td>\n      <td>2024/01/11</td>\n      <td>2024/01/23</td>\n      <td>WESTWELL GASES PRIVATE LIMITED</td>\n      <td>DRAVIDA MUNNETRA KAZHAGAM (DMK)</td>\n      <td>Paid</td>\n      <td>1.00</td>\n    </tr>\n  </tbody>\n</table>\n<p>18741 rows × 8 columns</p>\n</div>"
     },
     "execution_count": 95,
     "metadata": {},
     "output_type": "execute_result"
    }
   ],
   "source": [
    "df_main = df_purchase.merge(df_cash, left_on='UBN', right_on='UBN')\n",
    "df_main.rename(columns={'Date_x': 'Date_Purchase', 'Date_y': 'Date_Cash', 'Entity_x': 'Buyer', 'Entity_y': 'Party', 'Denominations_x': 'Denominations'}, inplace=True)\n",
    "df_main = df_main[[\"UBN\", \"Reference No  (URN)\", \"Date_Purchase\", \"Date_Cash\", \"Buyer\", \"Party\", \"Status\", \"Denominations\"]]\n",
    "df_main"
   ],
   "metadata": {
    "collapsed": false,
    "pycharm": {
     "name": "#%%\n"
    }
   }
  },
  {
   "cell_type": "code",
   "execution_count": 96,
   "outputs": [
    {
     "name": "stderr",
     "output_type": "stream",
     "text": [
      "C:\\Users\\KARNAV\\AppData\\Local\\Temp\\ipykernel_16892\\2143721582.py:3: SettingWithCopyWarning: \n",
      "A value is trying to be set on a copy of a slice from a DataFrame\n",
      "\n",
      "See the caveats in the documentation: https://pandas.pydata.org/pandas-docs/stable/user_guide/indexing.html#returning-a-view-versus-a-copy\n",
      "  not_cashed.rename(columns={'Date': 'Date_Purchase', 'Entity': 'Buyer'}, inplace=True)\n"
     ]
    },
    {
     "data": {
      "text/plain": "           UBN      Reference No  (URN) Date_Purchase  \\\n443    TL12858  00300201904150000001198    2019/04/15   \n444    TL12856  00300201904150000001198    2019/04/15   \n556    TL12928  00300201904160000001220    2019/04/16   \n830    TL11582  00001201904170000001245    2019/04/17   \n831    TL11585  00001201904170000001245    2019/04/17   \n...        ...                      ...           ...   \n18815  TL10062  01355202401110000003743    2024/01/11   \n18816  TL10060  01355202401110000003743    2024/01/11   \n18817  TL10056  01355202401110000003743    2024/01/11   \n18818  TL10058  01355202401110000003743    2024/01/11   \n18819  TL10064  01355202401110000003743    2024/01/11   \n\n                                     Buyer   Status  Denominations Date_Cash  \\\n443    UTKAL ALUMINA INTERNATIONAL LIMITED  Expired            0.1             \n444    UTKAL ALUMINA INTERNATIONAL LIMITED  Expired            0.1             \n556              KEYSTONE REALTORS PVT LTD  Expired            0.1             \n830            JUPITER MERCANTILES PVT LTD  Expired            0.1             \n831            JUPITER MERCANTILES PVT LTD  Expired            0.1             \n...                                    ...      ...            ...       ...   \n18815  SYLVANUS BUILDERS AND DEVELOPERS LI  Expired            0.1             \n18816  SYLVANUS BUILDERS AND DEVELOPERS LI  Expired            0.1             \n18817  SYLVANUS BUILDERS AND DEVELOPERS LI  Expired            0.1             \n18818  SYLVANUS BUILDERS AND DEVELOPERS LI  Expired            0.1             \n18819  SYLVANUS BUILDERS AND DEVELOPERS LI  Expired            0.1             \n\n      Party  \n443          \n444          \n556          \n830          \n831          \n...     ...  \n18815        \n18816        \n18817        \n18818        \n18819        \n\n[130 rows x 8 columns]",
      "text/html": "<div>\n<style scoped>\n    .dataframe tbody tr th:only-of-type {\n        vertical-align: middle;\n    }\n\n    .dataframe tbody tr th {\n        vertical-align: top;\n    }\n\n    .dataframe thead th {\n        text-align: right;\n    }\n</style>\n<table border=\"1\" class=\"dataframe\">\n  <thead>\n    <tr style=\"text-align: right;\">\n      <th></th>\n      <th>UBN</th>\n      <th>Reference No  (URN)</th>\n      <th>Date_Purchase</th>\n      <th>Buyer</th>\n      <th>Status</th>\n      <th>Denominations</th>\n      <th>Date_Cash</th>\n      <th>Party</th>\n    </tr>\n  </thead>\n  <tbody>\n    <tr>\n      <th>443</th>\n      <td>TL12858</td>\n      <td>00300201904150000001198</td>\n      <td>2019/04/15</td>\n      <td>UTKAL ALUMINA INTERNATIONAL LIMITED</td>\n      <td>Expired</td>\n      <td>0.1</td>\n      <td></td>\n      <td></td>\n    </tr>\n    <tr>\n      <th>444</th>\n      <td>TL12856</td>\n      <td>00300201904150000001198</td>\n      <td>2019/04/15</td>\n      <td>UTKAL ALUMINA INTERNATIONAL LIMITED</td>\n      <td>Expired</td>\n      <td>0.1</td>\n      <td></td>\n      <td></td>\n    </tr>\n    <tr>\n      <th>556</th>\n      <td>TL12928</td>\n      <td>00300201904160000001220</td>\n      <td>2019/04/16</td>\n      <td>KEYSTONE REALTORS PVT LTD</td>\n      <td>Expired</td>\n      <td>0.1</td>\n      <td></td>\n      <td></td>\n    </tr>\n    <tr>\n      <th>830</th>\n      <td>TL11582</td>\n      <td>00001201904170000001245</td>\n      <td>2019/04/17</td>\n      <td>JUPITER MERCANTILES PVT LTD</td>\n      <td>Expired</td>\n      <td>0.1</td>\n      <td></td>\n      <td></td>\n    </tr>\n    <tr>\n      <th>831</th>\n      <td>TL11585</td>\n      <td>00001201904170000001245</td>\n      <td>2019/04/17</td>\n      <td>JUPITER MERCANTILES PVT LTD</td>\n      <td>Expired</td>\n      <td>0.1</td>\n      <td></td>\n      <td></td>\n    </tr>\n    <tr>\n      <th>...</th>\n      <td>...</td>\n      <td>...</td>\n      <td>...</td>\n      <td>...</td>\n      <td>...</td>\n      <td>...</td>\n      <td>...</td>\n      <td>...</td>\n    </tr>\n    <tr>\n      <th>18815</th>\n      <td>TL10062</td>\n      <td>01355202401110000003743</td>\n      <td>2024/01/11</td>\n      <td>SYLVANUS BUILDERS AND DEVELOPERS LI</td>\n      <td>Expired</td>\n      <td>0.1</td>\n      <td></td>\n      <td></td>\n    </tr>\n    <tr>\n      <th>18816</th>\n      <td>TL10060</td>\n      <td>01355202401110000003743</td>\n      <td>2024/01/11</td>\n      <td>SYLVANUS BUILDERS AND DEVELOPERS LI</td>\n      <td>Expired</td>\n      <td>0.1</td>\n      <td></td>\n      <td></td>\n    </tr>\n    <tr>\n      <th>18817</th>\n      <td>TL10056</td>\n      <td>01355202401110000003743</td>\n      <td>2024/01/11</td>\n      <td>SYLVANUS BUILDERS AND DEVELOPERS LI</td>\n      <td>Expired</td>\n      <td>0.1</td>\n      <td></td>\n      <td></td>\n    </tr>\n    <tr>\n      <th>18818</th>\n      <td>TL10058</td>\n      <td>01355202401110000003743</td>\n      <td>2024/01/11</td>\n      <td>SYLVANUS BUILDERS AND DEVELOPERS LI</td>\n      <td>Expired</td>\n      <td>0.1</td>\n      <td></td>\n      <td></td>\n    </tr>\n    <tr>\n      <th>18819</th>\n      <td>TL10064</td>\n      <td>01355202401110000003743</td>\n      <td>2024/01/11</td>\n      <td>SYLVANUS BUILDERS AND DEVELOPERS LI</td>\n      <td>Expired</td>\n      <td>0.1</td>\n      <td></td>\n      <td></td>\n    </tr>\n  </tbody>\n</table>\n<p>130 rows × 8 columns</p>\n</div>"
     },
     "execution_count": 96,
     "metadata": {},
     "output_type": "execute_result"
    }
   ],
   "source": [
    "cash_ubns = list(df_cash[\"UBN\"])\n",
    "not_cashed = df_purchase[~df_purchase[\"UBN\"].isin(cash_ubns)]\n",
    "not_cashed.rename(columns={'Date': 'Date_Purchase', 'Entity': 'Buyer'}, inplace=True)\n",
    "not_cashed = not_cashed[[\"UBN\", \"Reference No  (URN)\", \"Date_Purchase\", \"Buyer\", \"Status\", \"Denominations\"]]\n",
    "not_cashed[\"Date_Cash\"] = \"\"\n",
    "not_cashed[\"Party\"] = \"\"\n",
    "not_cashed"
   ],
   "metadata": {
    "collapsed": false,
    "pycharm": {
     "name": "#%%\n"
    }
   }
  },
  {
   "cell_type": "code",
   "execution_count": 97,
   "outputs": [
    {
     "name": "stderr",
     "output_type": "stream",
     "text": [
      "C:\\Users\\KARNAV\\AppData\\Local\\Temp\\ipykernel_16892\\2102026504.py:3: SettingWithCopyWarning: \n",
      "A value is trying to be set on a copy of a slice from a DataFrame\n",
      "\n",
      "See the caveats in the documentation: https://pandas.pydata.org/pandas-docs/stable/user_guide/indexing.html#returning-a-view-versus-a-copy\n",
      "  purchase_missing.rename(columns={'Date': 'Date_Cash', 'Entity': 'Party'}, inplace=True)\n"
     ]
    },
    {
     "data": {
      "text/plain": "          UBN   Date_Cash                                     Party  \\\n0       OC775  2019/04/12  ALL INDIA ANNA DRAVIDA MUNNETRA KAZHAGAM   \n1      OC3975  2019/04/12  ALL INDIA ANNA DRAVIDA MUNNETRA KAZHAGAM   \n2      OC3967  2019/04/12  ALL INDIA ANNA DRAVIDA MUNNETRA KAZHAGAM   \n3     TL10418  2019/04/12  ALL INDIA ANNA DRAVIDA MUNNETRA KAZHAGAM   \n4       TL126  2019/04/12  ALL INDIA ANNA DRAVIDA MUNNETRA KAZHAGAM   \n...       ...         ...                                       ...   \n2804    OL168  2019/04/25                    BHARATIYA JANATA PARTY   \n2805    OL127  2019/04/25                    BHARATIYA JANATA PARTY   \n2853   OL2142  2019/04/25                                  SHIVSENA   \n2854   OL2144  2019/04/25                                  SHIVSENA   \n2855   OL2146  2019/04/25                                  SHIVSENA   \n\n      Denominations Status Reference No  (URN) Date_Purchase Buyer  \n0              1.00                                                 \n1              1.00                                                 \n2              1.00                                                 \n3              0.10                                                 \n4              0.10                                                 \n...             ...    ...                 ...           ...   ...  \n2804           0.01                                                 \n2805           0.01                                                 \n2853           0.01                                                 \n2854           0.01                                                 \n2855           0.01                                                 \n\n[1680 rows x 8 columns]",
      "text/html": "<div>\n<style scoped>\n    .dataframe tbody tr th:only-of-type {\n        vertical-align: middle;\n    }\n\n    .dataframe tbody tr th {\n        vertical-align: top;\n    }\n\n    .dataframe thead th {\n        text-align: right;\n    }\n</style>\n<table border=\"1\" class=\"dataframe\">\n  <thead>\n    <tr style=\"text-align: right;\">\n      <th></th>\n      <th>UBN</th>\n      <th>Date_Cash</th>\n      <th>Party</th>\n      <th>Denominations</th>\n      <th>Status</th>\n      <th>Reference No  (URN)</th>\n      <th>Date_Purchase</th>\n      <th>Buyer</th>\n    </tr>\n  </thead>\n  <tbody>\n    <tr>\n      <th>0</th>\n      <td>OC775</td>\n      <td>2019/04/12</td>\n      <td>ALL INDIA ANNA DRAVIDA MUNNETRA KAZHAGAM</td>\n      <td>1.00</td>\n      <td></td>\n      <td></td>\n      <td></td>\n      <td></td>\n    </tr>\n    <tr>\n      <th>1</th>\n      <td>OC3975</td>\n      <td>2019/04/12</td>\n      <td>ALL INDIA ANNA DRAVIDA MUNNETRA KAZHAGAM</td>\n      <td>1.00</td>\n      <td></td>\n      <td></td>\n      <td></td>\n      <td></td>\n    </tr>\n    <tr>\n      <th>2</th>\n      <td>OC3967</td>\n      <td>2019/04/12</td>\n      <td>ALL INDIA ANNA DRAVIDA MUNNETRA KAZHAGAM</td>\n      <td>1.00</td>\n      <td></td>\n      <td></td>\n      <td></td>\n      <td></td>\n    </tr>\n    <tr>\n      <th>3</th>\n      <td>TL10418</td>\n      <td>2019/04/12</td>\n      <td>ALL INDIA ANNA DRAVIDA MUNNETRA KAZHAGAM</td>\n      <td>0.10</td>\n      <td></td>\n      <td></td>\n      <td></td>\n      <td></td>\n    </tr>\n    <tr>\n      <th>4</th>\n      <td>TL126</td>\n      <td>2019/04/12</td>\n      <td>ALL INDIA ANNA DRAVIDA MUNNETRA KAZHAGAM</td>\n      <td>0.10</td>\n      <td></td>\n      <td></td>\n      <td></td>\n      <td></td>\n    </tr>\n    <tr>\n      <th>...</th>\n      <td>...</td>\n      <td>...</td>\n      <td>...</td>\n      <td>...</td>\n      <td>...</td>\n      <td>...</td>\n      <td>...</td>\n      <td>...</td>\n    </tr>\n    <tr>\n      <th>2804</th>\n      <td>OL168</td>\n      <td>2019/04/25</td>\n      <td>BHARATIYA JANATA PARTY</td>\n      <td>0.01</td>\n      <td></td>\n      <td></td>\n      <td></td>\n      <td></td>\n    </tr>\n    <tr>\n      <th>2805</th>\n      <td>OL127</td>\n      <td>2019/04/25</td>\n      <td>BHARATIYA JANATA PARTY</td>\n      <td>0.01</td>\n      <td></td>\n      <td></td>\n      <td></td>\n      <td></td>\n    </tr>\n    <tr>\n      <th>2853</th>\n      <td>OL2142</td>\n      <td>2019/04/25</td>\n      <td>SHIVSENA</td>\n      <td>0.01</td>\n      <td></td>\n      <td></td>\n      <td></td>\n      <td></td>\n    </tr>\n    <tr>\n      <th>2854</th>\n      <td>OL2144</td>\n      <td>2019/04/25</td>\n      <td>SHIVSENA</td>\n      <td>0.01</td>\n      <td></td>\n      <td></td>\n      <td></td>\n      <td></td>\n    </tr>\n    <tr>\n      <th>2855</th>\n      <td>OL2146</td>\n      <td>2019/04/25</td>\n      <td>SHIVSENA</td>\n      <td>0.01</td>\n      <td></td>\n      <td></td>\n      <td></td>\n      <td></td>\n    </tr>\n  </tbody>\n</table>\n<p>1680 rows × 8 columns</p>\n</div>"
     },
     "execution_count": 97,
     "metadata": {},
     "output_type": "execute_result"
    }
   ],
   "source": [
    "purchase_ubns = list(df_purchase[\"UBN\"])\n",
    "purchase_missing = df_cash[~df_cash[\"UBN\"].isin(purchase_ubns)]\n",
    "purchase_missing.rename(columns={'Date': 'Date_Cash', 'Entity': 'Party'}, inplace=True)\n",
    "purchase_missing = purchase_missing[[\"UBN\", \"Date_Cash\", \"Party\", \"Denominations\"]]\n",
    "purchase_missing[\"Status\"] = \"\"\n",
    "purchase_missing[\"Reference No  (URN)\"] = \"\"\n",
    "purchase_missing[\"Date_Purchase\"] = \"\"\n",
    "purchase_missing[\"Buyer\"] = \"\"\n",
    "purchase_missing"
   ],
   "metadata": {
    "collapsed": false,
    "pycharm": {
     "name": "#%%\n"
    }
   }
  },
  {
   "cell_type": "code",
   "execution_count": 98,
   "outputs": [
    {
     "data": {
      "text/plain": "           UBN      Reference No  (URN) Date_Purchase   Date_Cash  \\\n0      TL11448  00001201904120000001166    2019/04/12  2019/04/25   \n1      TL11447  00001201904120000001166    2019/04/12  2019/04/25   \n2      TL11441  00001201904120000001166    2019/04/12  2019/04/25   \n3       OL1113  00001201904120000001166    2019/04/12  2019/04/25   \n4       OL1118  00001201904120000001166    2019/04/12  2019/04/25   \n...        ...                      ...           ...         ...   \n18815  TL10062  01355202401110000003743    2024/01/11               \n18816  TL10060  01355202401110000003743    2024/01/11               \n18817  TL10056  01355202401110000003743    2024/01/11               \n18818  TL10058  01355202401110000003743    2024/01/11               \n18819  TL10064  01355202401110000003743    2024/01/11               \n\n                                     Buyer                   Party   Status  \\\n0                      A B C INDIA LIMITED  BHARATIYA JANATA PARTY     Paid   \n1                      A B C INDIA LIMITED  BHARATIYA JANATA PARTY     Paid   \n2                      A B C INDIA LIMITED  BHARATIYA JANATA PARTY     Paid   \n3                      A B C INDIA LIMITED  BHARATIYA JANATA PARTY     Paid   \n4                      A B C INDIA LIMITED  BHARATIYA JANATA PARTY     Paid   \n...                                    ...                     ...      ...   \n18815  SYLVANUS BUILDERS AND DEVELOPERS LI                          Expired   \n18816  SYLVANUS BUILDERS AND DEVELOPERS LI                          Expired   \n18817  SYLVANUS BUILDERS AND DEVELOPERS LI                          Expired   \n18818  SYLVANUS BUILDERS AND DEVELOPERS LI                          Expired   \n18819  SYLVANUS BUILDERS AND DEVELOPERS LI                          Expired   \n\n       Denominations  \n0               0.10  \n1               0.10  \n2               0.10  \n3               0.01  \n4               0.01  \n...              ...  \n18815           0.10  \n18816           0.10  \n18817           0.10  \n18818           0.10  \n18819           0.10  \n\n[20551 rows x 8 columns]",
      "text/html": "<div>\n<style scoped>\n    .dataframe tbody tr th:only-of-type {\n        vertical-align: middle;\n    }\n\n    .dataframe tbody tr th {\n        vertical-align: top;\n    }\n\n    .dataframe thead th {\n        text-align: right;\n    }\n</style>\n<table border=\"1\" class=\"dataframe\">\n  <thead>\n    <tr style=\"text-align: right;\">\n      <th></th>\n      <th>UBN</th>\n      <th>Reference No  (URN)</th>\n      <th>Date_Purchase</th>\n      <th>Date_Cash</th>\n      <th>Buyer</th>\n      <th>Party</th>\n      <th>Status</th>\n      <th>Denominations</th>\n    </tr>\n  </thead>\n  <tbody>\n    <tr>\n      <th>0</th>\n      <td>TL11448</td>\n      <td>00001201904120000001166</td>\n      <td>2019/04/12</td>\n      <td>2019/04/25</td>\n      <td>A B C INDIA LIMITED</td>\n      <td>BHARATIYA JANATA PARTY</td>\n      <td>Paid</td>\n      <td>0.10</td>\n    </tr>\n    <tr>\n      <th>1</th>\n      <td>TL11447</td>\n      <td>00001201904120000001166</td>\n      <td>2019/04/12</td>\n      <td>2019/04/25</td>\n      <td>A B C INDIA LIMITED</td>\n      <td>BHARATIYA JANATA PARTY</td>\n      <td>Paid</td>\n      <td>0.10</td>\n    </tr>\n    <tr>\n      <th>2</th>\n      <td>TL11441</td>\n      <td>00001201904120000001166</td>\n      <td>2019/04/12</td>\n      <td>2019/04/25</td>\n      <td>A B C INDIA LIMITED</td>\n      <td>BHARATIYA JANATA PARTY</td>\n      <td>Paid</td>\n      <td>0.10</td>\n    </tr>\n    <tr>\n      <th>3</th>\n      <td>OL1113</td>\n      <td>00001201904120000001166</td>\n      <td>2019/04/12</td>\n      <td>2019/04/25</td>\n      <td>A B C INDIA LIMITED</td>\n      <td>BHARATIYA JANATA PARTY</td>\n      <td>Paid</td>\n      <td>0.01</td>\n    </tr>\n    <tr>\n      <th>4</th>\n      <td>OL1118</td>\n      <td>00001201904120000001166</td>\n      <td>2019/04/12</td>\n      <td>2019/04/25</td>\n      <td>A B C INDIA LIMITED</td>\n      <td>BHARATIYA JANATA PARTY</td>\n      <td>Paid</td>\n      <td>0.01</td>\n    </tr>\n    <tr>\n      <th>...</th>\n      <td>...</td>\n      <td>...</td>\n      <td>...</td>\n      <td>...</td>\n      <td>...</td>\n      <td>...</td>\n      <td>...</td>\n      <td>...</td>\n    </tr>\n    <tr>\n      <th>18815</th>\n      <td>TL10062</td>\n      <td>01355202401110000003743</td>\n      <td>2024/01/11</td>\n      <td></td>\n      <td>SYLVANUS BUILDERS AND DEVELOPERS LI</td>\n      <td></td>\n      <td>Expired</td>\n      <td>0.10</td>\n    </tr>\n    <tr>\n      <th>18816</th>\n      <td>TL10060</td>\n      <td>01355202401110000003743</td>\n      <td>2024/01/11</td>\n      <td></td>\n      <td>SYLVANUS BUILDERS AND DEVELOPERS LI</td>\n      <td></td>\n      <td>Expired</td>\n      <td>0.10</td>\n    </tr>\n    <tr>\n      <th>18817</th>\n      <td>TL10056</td>\n      <td>01355202401110000003743</td>\n      <td>2024/01/11</td>\n      <td></td>\n      <td>SYLVANUS BUILDERS AND DEVELOPERS LI</td>\n      <td></td>\n      <td>Expired</td>\n      <td>0.10</td>\n    </tr>\n    <tr>\n      <th>18818</th>\n      <td>TL10058</td>\n      <td>01355202401110000003743</td>\n      <td>2024/01/11</td>\n      <td></td>\n      <td>SYLVANUS BUILDERS AND DEVELOPERS LI</td>\n      <td></td>\n      <td>Expired</td>\n      <td>0.10</td>\n    </tr>\n    <tr>\n      <th>18819</th>\n      <td>TL10064</td>\n      <td>01355202401110000003743</td>\n      <td>2024/01/11</td>\n      <td></td>\n      <td>SYLVANUS BUILDERS AND DEVELOPERS LI</td>\n      <td></td>\n      <td>Expired</td>\n      <td>0.10</td>\n    </tr>\n  </tbody>\n</table>\n<p>20551 rows × 8 columns</p>\n</div>"
     },
     "execution_count": 98,
     "metadata": {},
     "output_type": "execute_result"
    }
   ],
   "source": [
    "df_main_full = pd.concat([df_main, purchase_missing, not_cashed])\n",
    "df_main_full"
   ],
   "metadata": {
    "collapsed": false,
    "pycharm": {
     "name": "#%%\n"
    }
   }
  },
  {
   "cell_type": "code",
   "execution_count": 99,
   "outputs": [
    {
     "data": {
      "text/plain": "         Resolved_Buyer                               Buyer\n0     14 REELS PLUS LLP                   14 REELS PLUS LLP\n1     14 REELS PLUS LLP                 A B C INDIA LIMITED\n2     14 REELS PLUS LLP                    AAKANKSHA BAHETY\n3     14 REELS PLUS LLP                AALAYA CONSTRUCTIONS\n4     14 REELS PLUS LLP  AARISH SOLAR POWER PRIVATE LIMITED\n...                 ...                                 ...\n1292  14 REELS PLUS LLP     YUVAN TRADING   CONSULTANCY LLP\n1293  14 REELS PLUS LLP             ZENSAR TECHNOLOGIES LTD\n1294  14 REELS PLUS LLP        ZUVAN ENERGY PRIVATE LIMITED\n1295  14 REELS PLUS LLP                ZUVAN ENERGY PVT LTD\n1296  14 REELS PLUS LLP            ZYDUS HEALTHCARE LIMITED\n\n[1297 rows x 2 columns]",
      "text/html": "<div>\n<style scoped>\n    .dataframe tbody tr th:only-of-type {\n        vertical-align: middle;\n    }\n\n    .dataframe tbody tr th {\n        vertical-align: top;\n    }\n\n    .dataframe thead th {\n        text-align: right;\n    }\n</style>\n<table border=\"1\" class=\"dataframe\">\n  <thead>\n    <tr style=\"text-align: right;\">\n      <th></th>\n      <th>Resolved_Buyer</th>\n      <th>Buyer</th>\n    </tr>\n  </thead>\n  <tbody>\n    <tr>\n      <th>0</th>\n      <td>14 REELS PLUS LLP</td>\n      <td>14 REELS PLUS LLP</td>\n    </tr>\n    <tr>\n      <th>1</th>\n      <td>14 REELS PLUS LLP</td>\n      <td>A B C INDIA LIMITED</td>\n    </tr>\n    <tr>\n      <th>2</th>\n      <td>14 REELS PLUS LLP</td>\n      <td>AAKANKSHA BAHETY</td>\n    </tr>\n    <tr>\n      <th>3</th>\n      <td>14 REELS PLUS LLP</td>\n      <td>AALAYA CONSTRUCTIONS</td>\n    </tr>\n    <tr>\n      <th>4</th>\n      <td>14 REELS PLUS LLP</td>\n      <td>AARISH SOLAR POWER PRIVATE LIMITED</td>\n    </tr>\n    <tr>\n      <th>...</th>\n      <td>...</td>\n      <td>...</td>\n    </tr>\n    <tr>\n      <th>1292</th>\n      <td>14 REELS PLUS LLP</td>\n      <td>YUVAN TRADING   CONSULTANCY LLP</td>\n    </tr>\n    <tr>\n      <th>1293</th>\n      <td>14 REELS PLUS LLP</td>\n      <td>ZENSAR TECHNOLOGIES LTD</td>\n    </tr>\n    <tr>\n      <th>1294</th>\n      <td>14 REELS PLUS LLP</td>\n      <td>ZUVAN ENERGY PRIVATE LIMITED</td>\n    </tr>\n    <tr>\n      <th>1295</th>\n      <td>14 REELS PLUS LLP</td>\n      <td>ZUVAN ENERGY PVT LTD</td>\n    </tr>\n    <tr>\n      <th>1296</th>\n      <td>14 REELS PLUS LLP</td>\n      <td>ZYDUS HEALTHCARE LIMITED</td>\n    </tr>\n  </tbody>\n</table>\n<p>1297 rows × 2 columns</p>\n</div>"
     },
     "execution_count": 99,
     "metadata": {},
     "output_type": "execute_result"
    }
   ],
   "source": [
    "def resolve_similar_names(names):\n",
    "    resolved_names = []\n",
    "    seen_names = set()\n",
    "    for name in names:\n",
    "        # Check if the name is similar to any name already seen\n",
    "        similar_name = process.extractOne(name, seen_names)\n",
    "        if similar_name:\n",
    "            resolved_names.append(similar_name[0])\n",
    "        else:\n",
    "            resolved_names.append(name)\n",
    "            seen_names.add(name)\n",
    "    return resolved_names\n",
    "\n",
    "# Apply the function to resolve similar names\n",
    "temp_df = df_main.groupby(\"Buyer\").agg({\"Denominations\": lambda x: x.sum()}).reset_index()\n",
    "temp_df['Resolved_Buyer'] = resolve_similar_names(temp_df['Buyer'])\n",
    "temp_df[['Resolved_Buyer', 'Buyer']]"
   ],
   "metadata": {
    "collapsed": false,
    "pycharm": {
     "name": "#%%\n"
    }
   }
  },
  {
   "cell_type": "code",
   "execution_count": 100,
   "outputs": [
    {
     "data": {
      "text/plain": "                                                    Denominations\nParty                                                            \nBHARATIYA JANATA PARTY                                    466.310\nPRESIDENT, ALL INDIA CONGRESS COMMITTEE                    70.771\nBHARAT RASHTRA SAMITHI                                     23.550\nALL INDIA TRINAMOOL CONGRESS                               17.010\nYSR  CONGRESS PARTY  (YUVAJANA SRAMIKA RYTHU CO...          8.250\nTELUGU DESAM PARTY                                          7.300\nDRAVIDA MUNNETRA KAZHAGAM (DMK)                             7.000\nSHIVSENA                                                    6.930\nALL INDIA ANNA DRAVIDA MUNNETRA KAZHAGAM                    6.050\nJANATA DAL ( SECULAR )                                      2.500\nNATIONALIST CONGRESS PARTY MAHARASHTRA PRADESH              2.500\nBIHAR PRADESH JANTA DAL(UNITED)                             2.000\nJHARKHAND MUKTI MORCHA                                      1.000\nRASHTRIYA JANTA DAL                                         1.000\nADYAKSHA SAMAJVADI PARTY                                    0.840\nAAM AADMI PARTY                                             0.200",
      "text/html": "<div>\n<style scoped>\n    .dataframe tbody tr th:only-of-type {\n        vertical-align: middle;\n    }\n\n    .dataframe tbody tr th {\n        vertical-align: top;\n    }\n\n    .dataframe thead th {\n        text-align: right;\n    }\n</style>\n<table border=\"1\" class=\"dataframe\">\n  <thead>\n    <tr style=\"text-align: right;\">\n      <th></th>\n      <th>Denominations</th>\n    </tr>\n    <tr>\n      <th>Party</th>\n      <th></th>\n    </tr>\n  </thead>\n  <tbody>\n    <tr>\n      <th>BHARATIYA JANATA PARTY</th>\n      <td>466.310</td>\n    </tr>\n    <tr>\n      <th>PRESIDENT, ALL INDIA CONGRESS COMMITTEE</th>\n      <td>70.771</td>\n    </tr>\n    <tr>\n      <th>BHARAT RASHTRA SAMITHI</th>\n      <td>23.550</td>\n    </tr>\n    <tr>\n      <th>ALL INDIA TRINAMOOL CONGRESS</th>\n      <td>17.010</td>\n    </tr>\n    <tr>\n      <th>YSR  CONGRESS PARTY  (YUVAJANA SRAMIKA RYTHU CONGRESS PARTY)</th>\n      <td>8.250</td>\n    </tr>\n    <tr>\n      <th>TELUGU DESAM PARTY</th>\n      <td>7.300</td>\n    </tr>\n    <tr>\n      <th>DRAVIDA MUNNETRA KAZHAGAM (DMK)</th>\n      <td>7.000</td>\n    </tr>\n    <tr>\n      <th>SHIVSENA</th>\n      <td>6.930</td>\n    </tr>\n    <tr>\n      <th>ALL INDIA ANNA DRAVIDA MUNNETRA KAZHAGAM</th>\n      <td>6.050</td>\n    </tr>\n    <tr>\n      <th>JANATA DAL ( SECULAR )</th>\n      <td>2.500</td>\n    </tr>\n    <tr>\n      <th>NATIONALIST CONGRESS PARTY MAHARASHTRA PRADESH</th>\n      <td>2.500</td>\n    </tr>\n    <tr>\n      <th>BIHAR PRADESH JANTA DAL(UNITED)</th>\n      <td>2.000</td>\n    </tr>\n    <tr>\n      <th>JHARKHAND MUKTI MORCHA</th>\n      <td>1.000</td>\n    </tr>\n    <tr>\n      <th>RASHTRIYA JANTA DAL</th>\n      <td>1.000</td>\n    </tr>\n    <tr>\n      <th>ADYAKSHA SAMAJVADI PARTY</th>\n      <td>0.840</td>\n    </tr>\n    <tr>\n      <th>AAM AADMI PARTY</th>\n      <td>0.200</td>\n    </tr>\n  </tbody>\n</table>\n</div>"
     },
     "execution_count": 100,
     "metadata": {},
     "output_type": "execute_result"
    }
   ],
   "source": [
    "# All bond encashments whose purchases are not recorded in the data\n",
    "parties_missing = purchase_missing[[\"Party\", \"Denominations\"]].groupby(\"Party\").sum().sort_values(by=[\"Denominations\"], ascending=False)\n",
    "parties_missing"
   ],
   "metadata": {
    "collapsed": false,
    "pycharm": {
     "name": "#%%\n"
    }
   }
  },
  {
   "cell_type": "code",
   "execution_count": 101,
   "outputs": [
    {
     "data": {
      "text/plain": "                                                    Denominations\nParty                                                            \nBHARATIYA JANATA PARTY                                  5594.2011\nALL INDIA TRINAMOOL CONGRESS                            1592.5214\nPRESIDENT, ALL INDIA CONGRESS COMMITTEE                 1351.0945\nBHARAT RASHTRA SAMITHI                                  1191.1599\nBIJU JANATA DAL                                          775.5000\nDRAVIDA MUNNETRA KAZHAGAM (DMK)                          632.0000\nYSR  CONGRESS PARTY  (YUVAJANA SRAMIKA RYTHU CO...       328.7500\nTELUGU DESAM PARTY                                       211.5800\nSHIVSENA                                                 152.4514\nRASHTRIYA JANTA DAL                                       72.5000\nAAM AADMI PARTY                                           65.2500\nJANATA DAL ( SECULAR )                                    41.0000\nSIKKIM KRANTIKARI MORCHA                                  36.5000\nNATIONALIST CONGRESS PARTY MAHARASHTRA PRADESH            28.5000\nJANASENA PARTY                                            21.0000\nADYAKSHA SAMAJVADI PARTY                                  13.2100\nJHARKHAND MUKTI MORCHA                                    12.5000\nBIHAR PRADESH JANTA DAL(UNITED)                           12.0000\nSHIROMANI AKALI DAL                                        7.2600\nSIKKIM DEMOCRATIC FRONT                                    5.5000\nMAHARASHTRAWADI GOMNTAK PARTY                              0.5500\nJAMMU AND KASHMIR NATIONAL CONFERENCE                      0.5000\nGOA FORWARD PARTY                                          0.3500",
      "text/html": "<div>\n<style scoped>\n    .dataframe tbody tr th:only-of-type {\n        vertical-align: middle;\n    }\n\n    .dataframe tbody tr th {\n        vertical-align: top;\n    }\n\n    .dataframe thead th {\n        text-align: right;\n    }\n</style>\n<table border=\"1\" class=\"dataframe\">\n  <thead>\n    <tr style=\"text-align: right;\">\n      <th></th>\n      <th>Denominations</th>\n    </tr>\n    <tr>\n      <th>Party</th>\n      <th></th>\n    </tr>\n  </thead>\n  <tbody>\n    <tr>\n      <th>BHARATIYA JANATA PARTY</th>\n      <td>5594.2011</td>\n    </tr>\n    <tr>\n      <th>ALL INDIA TRINAMOOL CONGRESS</th>\n      <td>1592.5214</td>\n    </tr>\n    <tr>\n      <th>PRESIDENT, ALL INDIA CONGRESS COMMITTEE</th>\n      <td>1351.0945</td>\n    </tr>\n    <tr>\n      <th>BHARAT RASHTRA SAMITHI</th>\n      <td>1191.1599</td>\n    </tr>\n    <tr>\n      <th>BIJU JANATA DAL</th>\n      <td>775.5000</td>\n    </tr>\n    <tr>\n      <th>DRAVIDA MUNNETRA KAZHAGAM (DMK)</th>\n      <td>632.0000</td>\n    </tr>\n    <tr>\n      <th>YSR  CONGRESS PARTY  (YUVAJANA SRAMIKA RYTHU CONGRESS PARTY)</th>\n      <td>328.7500</td>\n    </tr>\n    <tr>\n      <th>TELUGU DESAM PARTY</th>\n      <td>211.5800</td>\n    </tr>\n    <tr>\n      <th>SHIVSENA</th>\n      <td>152.4514</td>\n    </tr>\n    <tr>\n      <th>RASHTRIYA JANTA DAL</th>\n      <td>72.5000</td>\n    </tr>\n    <tr>\n      <th>AAM AADMI PARTY</th>\n      <td>65.2500</td>\n    </tr>\n    <tr>\n      <th>JANATA DAL ( SECULAR )</th>\n      <td>41.0000</td>\n    </tr>\n    <tr>\n      <th>SIKKIM KRANTIKARI MORCHA</th>\n      <td>36.5000</td>\n    </tr>\n    <tr>\n      <th>NATIONALIST CONGRESS PARTY MAHARASHTRA PRADESH</th>\n      <td>28.5000</td>\n    </tr>\n    <tr>\n      <th>JANASENA PARTY</th>\n      <td>21.0000</td>\n    </tr>\n    <tr>\n      <th>ADYAKSHA SAMAJVADI PARTY</th>\n      <td>13.2100</td>\n    </tr>\n    <tr>\n      <th>JHARKHAND MUKTI MORCHA</th>\n      <td>12.5000</td>\n    </tr>\n    <tr>\n      <th>BIHAR PRADESH JANTA DAL(UNITED)</th>\n      <td>12.0000</td>\n    </tr>\n    <tr>\n      <th>SHIROMANI AKALI DAL</th>\n      <td>7.2600</td>\n    </tr>\n    <tr>\n      <th>SIKKIM DEMOCRATIC FRONT</th>\n      <td>5.5000</td>\n    </tr>\n    <tr>\n      <th>MAHARASHTRAWADI GOMNTAK PARTY</th>\n      <td>0.5500</td>\n    </tr>\n    <tr>\n      <th>JAMMU AND KASHMIR NATIONAL CONFERENCE</th>\n      <td>0.5000</td>\n    </tr>\n    <tr>\n      <th>GOA FORWARD PARTY</th>\n      <td>0.3500</td>\n    </tr>\n  </tbody>\n</table>\n</div>"
     },
     "execution_count": 101,
     "metadata": {},
     "output_type": "execute_result"
    }
   ],
   "source": [
    "# All bond encashments\n",
    "parties_total = df_main[[\"Party\", \"Denominations\"]].groupby(\"Party\").sum().sort_values(by=[\"Denominations\"], ascending=False)\n",
    "parties_total"
   ],
   "metadata": {
    "collapsed": false,
    "pycharm": {
     "name": "#%%\n"
    }
   }
  },
  {
   "cell_type": "code",
   "execution_count": 102,
   "outputs": [],
   "source": [
    "df_main_full.to_csv(\"./referenced_data.csv\", index=False)"
   ],
   "metadata": {
    "collapsed": false,
    "pycharm": {
     "name": "#%%\n"
    }
   }
  }
 ],
 "metadata": {
  "kernelspec": {
   "display_name": "Python 3",
   "language": "python",
   "name": "python3"
  },
  "language_info": {
   "codemirror_mode": {
    "name": "ipython",
    "version": 2
   },
   "file_extension": ".py",
   "mimetype": "text/x-python",
   "name": "python",
   "nbconvert_exporter": "python",
   "pygments_lexer": "ipython2",
   "version": "2.7.6"
  }
 },
 "nbformat": 4,
 "nbformat_minor": 0
}