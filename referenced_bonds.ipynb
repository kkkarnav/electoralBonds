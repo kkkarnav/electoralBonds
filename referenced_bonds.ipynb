{
 "cells": [
  {
   "cell_type": "code",
   "execution_count": 6,
   "metadata": {
    "collapsed": true
   },
   "outputs": [
    {
     "ename": "AttributeError",
     "evalue": "partially initialized module 'pandas' has no attribute '_pandas_datetime_CAPI' (most likely due to a circular import)",
     "output_type": "error",
     "traceback": [
      "\u001B[1;31m---------------------------------------------------------------------------\u001B[0m",
      "\u001B[1;31mAttributeError\u001B[0m                            Traceback (most recent call last)",
      "Cell \u001B[1;32mIn[6], line 1\u001B[0m\n\u001B[1;32m----> 1\u001B[0m \u001B[38;5;28;01mimport\u001B[39;00m \u001B[38;5;21;01mpandas\u001B[39;00m \u001B[38;5;28;01mas\u001B[39;00m \u001B[38;5;21;01mpd\u001B[39;00m\n\u001B[0;32m      2\u001B[0m \u001B[38;5;28;01mimport\u001B[39;00m \u001B[38;5;21;01mnumpy\u001B[39;00m \u001B[38;5;28;01mas\u001B[39;00m \u001B[38;5;21;01mnp\u001B[39;00m\n\u001B[0;32m      3\u001B[0m \u001B[38;5;28;01mfrom\u001B[39;00m \u001B[38;5;21;01mscipy\u001B[39;00m\u001B[38;5;21;01m.\u001B[39;00m\u001B[38;5;21;01minterpolate\u001B[39;00m \u001B[38;5;28;01mimport\u001B[39;00m PchipInterpolator\n",
      "File \u001B[1;32m~\\AppData\\Roaming\\Python\\Python310\\site-packages\\pandas\\__init__.py:62\u001B[0m\n\u001B[0;32m     59\u001B[0m \u001B[38;5;66;03m# let init-time option registration happen\u001B[39;00m\n\u001B[0;32m     60\u001B[0m \u001B[38;5;28;01mimport\u001B[39;00m \u001B[38;5;21;01mpandas\u001B[39;00m\u001B[38;5;21;01m.\u001B[39;00m\u001B[38;5;21;01mcore\u001B[39;00m\u001B[38;5;21;01m.\u001B[39;00m\u001B[38;5;21;01mconfig_init\u001B[39;00m  \u001B[38;5;66;03m# pyright: ignore[reportUnusedImport] # noqa: F401\u001B[39;00m\n\u001B[1;32m---> 62\u001B[0m \u001B[38;5;28;01mfrom\u001B[39;00m \u001B[38;5;21;01mpandas\u001B[39;00m\u001B[38;5;21;01m.\u001B[39;00m\u001B[38;5;21;01mcore\u001B[39;00m\u001B[38;5;21;01m.\u001B[39;00m\u001B[38;5;21;01mapi\u001B[39;00m \u001B[38;5;28;01mimport\u001B[39;00m (\n\u001B[0;32m     63\u001B[0m     \u001B[38;5;66;03m# dtype\u001B[39;00m\n\u001B[0;32m     64\u001B[0m     ArrowDtype,\n\u001B[0;32m     65\u001B[0m     Int8Dtype,\n\u001B[0;32m     66\u001B[0m     Int16Dtype,\n\u001B[0;32m     67\u001B[0m     Int32Dtype,\n\u001B[0;32m     68\u001B[0m     Int64Dtype,\n\u001B[0;32m     69\u001B[0m     UInt8Dtype,\n\u001B[0;32m     70\u001B[0m     UInt16Dtype,\n\u001B[0;32m     71\u001B[0m     UInt32Dtype,\n\u001B[0;32m     72\u001B[0m     UInt64Dtype,\n\u001B[0;32m     73\u001B[0m     Float32Dtype,\n\u001B[0;32m     74\u001B[0m     Float64Dtype,\n\u001B[0;32m     75\u001B[0m     CategoricalDtype,\n\u001B[0;32m     76\u001B[0m     PeriodDtype,\n\u001B[0;32m     77\u001B[0m     IntervalDtype,\n\u001B[0;32m     78\u001B[0m     DatetimeTZDtype,\n\u001B[0;32m     79\u001B[0m     StringDtype,\n\u001B[0;32m     80\u001B[0m     BooleanDtype,\n\u001B[0;32m     81\u001B[0m     \u001B[38;5;66;03m# missing\u001B[39;00m\n\u001B[0;32m     82\u001B[0m     NA,\n\u001B[0;32m     83\u001B[0m     isna,\n\u001B[0;32m     84\u001B[0m     isnull,\n\u001B[0;32m     85\u001B[0m     notna,\n\u001B[0;32m     86\u001B[0m     notnull,\n\u001B[0;32m     87\u001B[0m     \u001B[38;5;66;03m# indexes\u001B[39;00m\n\u001B[0;32m     88\u001B[0m     Index,\n\u001B[0;32m     89\u001B[0m     CategoricalIndex,\n\u001B[0;32m     90\u001B[0m     RangeIndex,\n\u001B[0;32m     91\u001B[0m     MultiIndex,\n\u001B[0;32m     92\u001B[0m     IntervalIndex,\n\u001B[0;32m     93\u001B[0m     TimedeltaIndex,\n\u001B[0;32m     94\u001B[0m     DatetimeIndex,\n\u001B[0;32m     95\u001B[0m     PeriodIndex,\n\u001B[0;32m     96\u001B[0m     IndexSlice,\n\u001B[0;32m     97\u001B[0m     \u001B[38;5;66;03m# tseries\u001B[39;00m\n\u001B[0;32m     98\u001B[0m     NaT,\n\u001B[0;32m     99\u001B[0m     Period,\n\u001B[0;32m    100\u001B[0m     period_range,\n\u001B[0;32m    101\u001B[0m     Timedelta,\n\u001B[0;32m    102\u001B[0m     timedelta_range,\n\u001B[0;32m    103\u001B[0m     Timestamp,\n\u001B[0;32m    104\u001B[0m     date_range,\n\u001B[0;32m    105\u001B[0m     bdate_range,\n\u001B[0;32m    106\u001B[0m     Interval,\n\u001B[0;32m    107\u001B[0m     interval_range,\n\u001B[0;32m    108\u001B[0m     DateOffset,\n\u001B[0;32m    109\u001B[0m     \u001B[38;5;66;03m# conversion\u001B[39;00m\n\u001B[0;32m    110\u001B[0m     to_numeric,\n\u001B[0;32m    111\u001B[0m     to_datetime,\n\u001B[0;32m    112\u001B[0m     to_timedelta,\n\u001B[0;32m    113\u001B[0m     \u001B[38;5;66;03m# misc\u001B[39;00m\n\u001B[0;32m    114\u001B[0m     Flags,\n\u001B[0;32m    115\u001B[0m     Grouper,\n\u001B[0;32m    116\u001B[0m     factorize,\n\u001B[0;32m    117\u001B[0m     unique,\n\u001B[0;32m    118\u001B[0m     value_counts,\n\u001B[0;32m    119\u001B[0m     NamedAgg,\n\u001B[0;32m    120\u001B[0m     array,\n\u001B[0;32m    121\u001B[0m     Categorical,\n\u001B[0;32m    122\u001B[0m     set_eng_float_format,\n\u001B[0;32m    123\u001B[0m     Series,\n\u001B[0;32m    124\u001B[0m     DataFrame,\n\u001B[0;32m    125\u001B[0m )\n\u001B[0;32m    127\u001B[0m \u001B[38;5;28;01mfrom\u001B[39;00m \u001B[38;5;21;01mpandas\u001B[39;00m\u001B[38;5;21;01m.\u001B[39;00m\u001B[38;5;21;01mcore\u001B[39;00m\u001B[38;5;21;01m.\u001B[39;00m\u001B[38;5;21;01mdtypes\u001B[39;00m\u001B[38;5;21;01m.\u001B[39;00m\u001B[38;5;21;01mdtypes\u001B[39;00m \u001B[38;5;28;01mimport\u001B[39;00m SparseDtype\n\u001B[0;32m    129\u001B[0m \u001B[38;5;28;01mfrom\u001B[39;00m \u001B[38;5;21;01mpandas\u001B[39;00m\u001B[38;5;21;01m.\u001B[39;00m\u001B[38;5;21;01mtseries\u001B[39;00m\u001B[38;5;21;01m.\u001B[39;00m\u001B[38;5;21;01mapi\u001B[39;00m \u001B[38;5;28;01mimport\u001B[39;00m infer_freq\n",
      "File \u001B[1;32m~\\AppData\\Roaming\\Python\\Python310\\site-packages\\pandas\\core\\api.py:1\u001B[0m\n\u001B[1;32m----> 1\u001B[0m \u001B[38;5;28;01mfrom\u001B[39;00m \u001B[38;5;21;01mpandas\u001B[39;00m\u001B[38;5;21;01m.\u001B[39;00m\u001B[38;5;21;01m_libs\u001B[39;00m \u001B[38;5;28;01mimport\u001B[39;00m (\n\u001B[0;32m      2\u001B[0m     NaT,\n\u001B[0;32m      3\u001B[0m     Period,\n\u001B[0;32m      4\u001B[0m     Timedelta,\n\u001B[0;32m      5\u001B[0m     Timestamp,\n\u001B[0;32m      6\u001B[0m )\n\u001B[0;32m      7\u001B[0m \u001B[38;5;28;01mfrom\u001B[39;00m \u001B[38;5;21;01mpandas\u001B[39;00m\u001B[38;5;21;01m.\u001B[39;00m\u001B[38;5;21;01m_libs\u001B[39;00m\u001B[38;5;21;01m.\u001B[39;00m\u001B[38;5;21;01mmissing\u001B[39;00m \u001B[38;5;28;01mimport\u001B[39;00m NA\n\u001B[0;32m      9\u001B[0m \u001B[38;5;28;01mfrom\u001B[39;00m \u001B[38;5;21;01mpandas\u001B[39;00m\u001B[38;5;21;01m.\u001B[39;00m\u001B[38;5;21;01mcore\u001B[39;00m\u001B[38;5;21;01m.\u001B[39;00m\u001B[38;5;21;01mdtypes\u001B[39;00m\u001B[38;5;21;01m.\u001B[39;00m\u001B[38;5;21;01mdtypes\u001B[39;00m \u001B[38;5;28;01mimport\u001B[39;00m (\n\u001B[0;32m     10\u001B[0m     ArrowDtype,\n\u001B[0;32m     11\u001B[0m     CategoricalDtype,\n\u001B[1;32m   (...)\u001B[0m\n\u001B[0;32m     14\u001B[0m     PeriodDtype,\n\u001B[0;32m     15\u001B[0m )\n",
      "File \u001B[1;32m~\\AppData\\Roaming\\Python\\Python310\\site-packages\\pandas\\_libs\\__init__.py:18\u001B[0m\n\u001B[0;32m     16\u001B[0m \u001B[38;5;28;01mimport\u001B[39;00m \u001B[38;5;21;01mpandas\u001B[39;00m\u001B[38;5;21;01m.\u001B[39;00m\u001B[38;5;21;01m_libs\u001B[39;00m\u001B[38;5;21;01m.\u001B[39;00m\u001B[38;5;21;01mpandas_parser\u001B[39;00m  \u001B[38;5;66;03m# isort: skip # type: ignore[reportUnusedImport]\u001B[39;00m\n\u001B[0;32m     17\u001B[0m \u001B[38;5;28;01mimport\u001B[39;00m \u001B[38;5;21;01mpandas\u001B[39;00m\u001B[38;5;21;01m.\u001B[39;00m\u001B[38;5;21;01m_libs\u001B[39;00m\u001B[38;5;21;01m.\u001B[39;00m\u001B[38;5;21;01mpandas_datetime\u001B[39;00m  \u001B[38;5;66;03m# noqa: F401 # isort: skip # type: ignore[reportUnusedImport]\u001B[39;00m\n\u001B[1;32m---> 18\u001B[0m \u001B[38;5;28;01mfrom\u001B[39;00m \u001B[38;5;21;01mpandas\u001B[39;00m\u001B[38;5;21;01m.\u001B[39;00m\u001B[38;5;21;01m_libs\u001B[39;00m\u001B[38;5;21;01m.\u001B[39;00m\u001B[38;5;21;01minterval\u001B[39;00m \u001B[38;5;28;01mimport\u001B[39;00m Interval\n\u001B[0;32m     19\u001B[0m \u001B[38;5;28;01mfrom\u001B[39;00m \u001B[38;5;21;01mpandas\u001B[39;00m\u001B[38;5;21;01m.\u001B[39;00m\u001B[38;5;21;01m_libs\u001B[39;00m\u001B[38;5;21;01m.\u001B[39;00m\u001B[38;5;21;01mtslibs\u001B[39;00m \u001B[38;5;28;01mimport\u001B[39;00m (\n\u001B[0;32m     20\u001B[0m     NaT,\n\u001B[0;32m     21\u001B[0m     NaTType,\n\u001B[1;32m   (...)\u001B[0m\n\u001B[0;32m     26\u001B[0m     iNaT,\n\u001B[0;32m     27\u001B[0m )\n",
      "File \u001B[1;32minterval.pyx:1\u001B[0m, in \u001B[0;36minit pandas._libs.interval\u001B[1;34m()\u001B[0m\n",
      "File \u001B[1;32mhashtable.pyx:1\u001B[0m, in \u001B[0;36minit pandas._libs.hashtable\u001B[1;34m()\u001B[0m\n",
      "File \u001B[1;32mmissing.pyx:40\u001B[0m, in \u001B[0;36minit pandas._libs.missing\u001B[1;34m()\u001B[0m\n",
      "\u001B[1;31mAttributeError\u001B[0m: partially initialized module 'pandas' has no attribute '_pandas_datetime_CAPI' (most likely due to a circular import)"
     ]
    }
   ],
   "source": [
    "import pandas as pd\n",
    "import numpy as np\n",
    "from scipy.interpolate import PchipInterpolator\n",
    "\n",
    "from bokeh.plotting import figure, show\n",
    "from bokeh.io import curdoc, output_notebook\n",
    "from bokeh.models import BoxZoomTool, ResetTool, PanTool, WheelZoomTool, HoverTool, AnnularWedge, ColumnDataSource, Legend, LegendItem, Plot, Range1d\n",
    "from bokeh.palettes import PuBu, Inferno256, Category20"
   ]
  },
  {
   "cell_type": "code",
   "execution_count": 5,
   "outputs": [
    {
     "ename": "NameError",
     "evalue": "name 'pd' is not defined",
     "output_type": "error",
     "traceback": [
      "\u001B[1;31m---------------------------------------------------------------------------\u001B[0m",
      "\u001B[1;31mNameError\u001B[0m                                 Traceback (most recent call last)",
      "Cell \u001B[1;32mIn[5], line 1\u001B[0m\n\u001B[1;32m----> 1\u001B[0m df_purchase \u001B[38;5;241m=\u001B[39m \u001B[43mpd\u001B[49m\u001B[38;5;241m.\u001B[39mread_csv(\u001B[38;5;124m\"\u001B[39m\u001B[38;5;124m./purchases2.csv\u001B[39m\u001B[38;5;124m\"\u001B[39m)\n\u001B[0;32m      2\u001B[0m df_cash \u001B[38;5;241m=\u001B[39m pd\u001B[38;5;241m.\u001B[39mread_csv(\u001B[38;5;124m\"\u001B[39m\u001B[38;5;124m./encashments2.csv\u001B[39m\u001B[38;5;124m\"\u001B[39m)\n",
      "\u001B[1;31mNameError\u001B[0m: name 'pd' is not defined"
     ]
    }
   ],
   "source": [
    "df_purchase = pd.read_csv(\"./purchases2.csv\")\n",
    "df_cash = pd.read_csv(\"./encashments2.csv\")"
   ],
   "metadata": {
    "collapsed": false,
    "pycharm": {
     "name": "#%%\n"
    }
   }
  },
  {
   "cell_type": "code",
   "execution_count": null,
   "outputs": [],
   "source": [
    "df_purchase.rename(columns={'Date of\\rPurchase': 'Date', 'Name of the Purchaser': 'Entity'}, inplace=True)\n",
    "df_purchase = df_purchase[df_purchase[\"Sr No.\"] != \"Sr No.\"]\n",
    "df_purchase = df_purchase.reset_index().drop([\"index\"], axis=1)\n",
    "df_purchase[\"UBN\"] = df_purchase[\"Prefix\"] + df_purchase[\"Bond\\rNumber\"]\n",
    "df_purchase"
   ],
   "metadata": {
    "collapsed": false,
    "pycharm": {
     "name": "#%%\n"
    }
   }
  },
  {
   "cell_type": "code",
   "execution_count": null,
   "outputs": [],
   "source": [
    "df_cash.rename(columns={'Date of\\rEncashment': 'Date', 'Name of the Political Party': 'Entity'}, inplace=True)\n",
    "df_cash = df_cash[df_cash[\"Sr No.\"] != \"Sr No.\"]\n",
    "df_cash = df_cash.reset_index().drop([\"index\"], axis=1)\n",
    "df_cash[\"UBN\"] = df_cash[\"Prefix\"] + df_cash[\"Bond\\rNumber\"]\n",
    "df_cash"
   ],
   "metadata": {
    "collapsed": false,
    "pycharm": {
     "name": "#%%\n"
    }
   }
  },
  {
   "cell_type": "code",
   "execution_count": null,
   "outputs": [],
   "source": [
    "df_main = df_purchase.merge(df_cash, left_on='UBN', right_on='UBN')\n",
    "df_main.rename(columns={'Date_x': 'Date_Purchase', 'Date_y': 'Date_Cash', 'Entity_x': 'Buyer', 'Entity_y': 'Party', 'Denominations_y': 'Denominations'}, inplace=True)\n",
    "df_main = df_main[[\"UBN\", \"Reference No  (URN)\", \"Date_Purchase\", \"Date_Cash\", \"Buyer\", \"Party\", \"Status\", \"Denominations\"]]\n",
    "df_main"
   ],
   "metadata": {
    "collapsed": false,
    "pycharm": {
     "name": "#%%\n"
    }
   }
  },
  {
   "cell_type": "code",
   "execution_count": null,
   "outputs": [],
   "source": [
    "cash_ubns = list(df_cash[\"UBN\"])\n",
    "not_cashed = df_purchase[~df_purchase[\"UBN\"].isin(cash_ubns)]\n",
    "not_cashed"
   ],
   "metadata": {
    "collapsed": false,
    "pycharm": {
     "name": "#%%\n"
    }
   }
  },
  {
   "cell_type": "code",
   "execution_count": null,
   "outputs": [],
   "source": [
    "purchase_ubns = list(df_purchase[\"UBN\"])\n",
    "purchase_missing = df_cash[~df_cash[\"UBN\"].isin(purchase_ubns)]\n",
    "purchase_missing"
   ],
   "metadata": {
    "collapsed": false,
    "pycharm": {
     "name": "#%%\n"
    }
   }
  },
  {
   "cell_type": "code",
   "execution_count": null,
   "outputs": [],
   "source": [
    "parties = purchase_missing[[\"Entity\", \"Denominations\"]].groupby(\"Entity\").sum()\n",
    "parties"
   ],
   "metadata": {
    "collapsed": false,
    "pycharm": {
     "name": "#%%\n"
    }
   }
  },
  {
   "cell_type": "code",
   "execution_count": null,
   "outputs": [],
   "source": [
    "def create_timeseries(df):\n",
    "    df[\"Entity\"] = df[\"Entity\"].apply(lambda x: x.replace(\"(POLITICAL PARTY)\", \"\").strip())\n",
    "    df[\"Denominations\"] = df[\"Denominations\"].apply(lambda x: float(x.replace(\",\", \"\"))/10000000)\n",
    "    # df[\"Date\"] = pd.to_datetime(df[\"Date\"]).apply(lambda x: int(x.strftime('%Y-%m').replace(\"-\", \"\")))\n",
    "    df = df.groupby([\"Date\", \"Entity\"]).agg({\"Denominations\": lambda x: x.sum()}).reset_index()\n",
    "    df.sort_values(by=\"Date\", inplace=True)\n",
    "    df['Cumulative'] = df.groupby('Entity')['Denominations'].cumsum()\n",
    "    return df"
   ],
   "metadata": {
    "collapsed": false,
    "pycharm": {
     "name": "#%%\n"
    }
   }
  },
  {
   "cell_type": "code",
   "execution_count": null,
   "outputs": [],
   "source": [
    "def create_aggregate(df):\n",
    "    df[\"Entity\"] = df[\"Entity\"].apply(lambda x: x.replace(\"(POLITICAL PARTY)\", \"\").strip())\n",
    "    df = df.groupby([\"Entity\"]).agg({\"Denominations\": lambda x: x.sum()}).reset_index()\n",
    "    df.sort_values(by=\"Denominations\", ascending=False, inplace=True)\n",
    "    return df"
   ],
   "metadata": {
    "collapsed": false,
    "pycharm": {
     "name": "#%%\n"
    }
   }
  },
  {
   "cell_type": "code",
   "execution_count": null,
   "outputs": [],
   "source": [
    "def plot_scatter(x, y, title='Scatter Plot of X and Y Coordinates', x_label='X', y_label='Y', color=\"cyan\", color_map=None, size_map=None):\n",
    "    output_notebook()\n",
    "    curdoc().theme = 'dark_minimal'\n",
    "\n",
    "    p = figure(width=800, height=600, title=title)\n",
    "\n",
    "    use_color = color_map if color_map is not None else color\n",
    "    use_size = size_map if size_map is not None else 8\n",
    "    p.scatter(x, y, size=use_size, color=use_color, alpha=0.5, legend_label='Data')\n",
    "\n",
    "    p.xaxis.axis_label = x_label\n",
    "    p.yaxis.axis_label = y_label\n",
    "    p.grid.visible = True\n",
    "\n",
    "    coefficients = np.polyfit(x, y, 1)\n",
    "    slope = coefficients[0]\n",
    "    intercept = coefficients[1]\n",
    "    trendline = slope * x + intercept\n",
    "    p.line(x, trendline, line_color='blue', line_width=1, legend_label='Trendline')\n",
    "\n",
    "    hover = HoverTool(tooltips=[('X', '@x'), ('Y', '@y')])\n",
    "    p.add_tools(hover)\n",
    "    p.add_tools(PanTool(), BoxZoomTool(), WheelZoomTool(), ResetTool())\n",
    "    show(p)"
   ],
   "metadata": {
    "collapsed": false,
    "pycharm": {
     "name": "#%%\n"
    }
   }
  },
  {
   "cell_type": "code",
   "execution_count": null,
   "outputs": [],
   "source": [
    "def plot_lines(df, x, y, cat, title='Line Chart', x_label='X', y_label='Y', color_map=None):\n",
    "    output_notebook()\n",
    "    curdoc().theme = 'dark_minimal'\n",
    "\n",
    "    p = figure(width=1200, height=600, title=title)\n",
    "\n",
    "    aggregated_df = df.groupby(cat)[y].sum().reset_index()\n",
    "    top_20_categories = aggregated_df.nlargest(20, y)[cat]\n",
    "    df = df[df[cat].isin(top_20_categories)]\n",
    "\n",
    "    categories = df[cat].unique()\n",
    "    colors = color_map if color_map else Category20[len(categories)]\n",
    "\n",
    "    for i, category in enumerate(categories):\n",
    "        category_data = df[df[cat] == category]\n",
    "        p.line(category_data[x], category_data[y], line_color=colors[i % len(colors)], line_width=2, legend_label=category)\n",
    "\n",
    "    p.legend.spacing = 0\n",
    "    p.legend.margin = 0\n",
    "    p.legend.padding = 0\n",
    "    p.legend.label_text_font_size = '6pt'\n",
    "    p.legend.click_policy = 'hide'\n",
    "    p.add_layout(p.legend[0], 'right')\n",
    "\n",
    "    p.add_tools(PanTool(), BoxZoomTool(), WheelZoomTool(), ResetTool())\n",
    "    show(p)"
   ],
   "metadata": {
    "collapsed": false,
    "pycharm": {
     "name": "#%%\n"
    }
   }
  },
  {
   "cell_type": "code",
   "execution_count": null,
   "outputs": [],
   "source": [
    "df_purchase_time = create_timeseries(df_purchase)\n",
    "df_purchase_time"
   ],
   "metadata": {
    "collapsed": false,
    "pycharm": {
     "name": "#%%\n"
    }
   }
  },
  {
   "cell_type": "code",
   "execution_count": null,
   "outputs": [],
   "source": [
    "df_cash_time = create_timeseries(df_cash)\n",
    "df_cash_time"
   ],
   "metadata": {
    "collapsed": false,
    "pycharm": {
     "name": "#%%\n"
    }
   }
  },
  {
   "cell_type": "code",
   "execution_count": null,
   "outputs": [],
   "source": [
    "df_purchase_agg = create_aggregate(df_purchase)\n",
    "df_purchase_agg"
   ],
   "metadata": {
    "collapsed": false,
    "pycharm": {
     "name": "#%%\n"
    }
   }
  },
  {
   "cell_type": "code",
   "execution_count": null,
   "outputs": [],
   "source": [
    "df_cash_agg = create_aggregate(df_cash)\n",
    "df_cash_agg"
   ],
   "metadata": {
    "collapsed": false,
    "pycharm": {
     "name": "#%%\n"
    }
   }
  },
  {
   "cell_type": "code",
   "execution_count": null,
   "outputs": [],
   "source": [
    "df_purchase_time.to_csv(\"./df_purchase_time.csv\", index=False)\n",
    "df_cash_time.to_csv(\"./df_cash_time.csv\", index=False)\n",
    "df_purchase_agg.to_csv(\"./df_purchase_agg.csv\", index=False)\n",
    "df_cash_agg.to_csv(\"./df_cash_agg.csv\", index=False)"
   ],
   "metadata": {
    "collapsed": false,
    "pycharm": {
     "name": "#%%\n"
    }
   }
  },
  {
   "cell_type": "code",
   "execution_count": null,
   "outputs": [],
   "source": [
    "color_map = [\n",
    "    \"#7F00FF\",  # Purple\n",
    "    \"#FF00FF\",  # Magenta\n",
    "    \"#FF0000\",  # Red\n",
    "    \"#FF8C00\",  # Dark Orange\n",
    "    \"#00FFFF\",  # Cyan\n",
    "    \"#F5F5DC\",  # Beige\n",
    "    \"#0000FF\",  # Blue\n",
    "    \"#C0C0C0\",  # Silver\n",
    "    \"#808080\",  # Gray\n",
    "    \"#FAEBD7\",  # Antique White\n",
    "    \"#00FFFF\",  # Aqua\n",
    "    \"#FFE4C4\",  # Bisque\n",
    "    \"#F0F8FF\",  # Alice Blue\n",
    "    \"#FFA500\",  # Orange\n",
    "    \"#F0FFFF\",  # Azure\n",
    "    \"#008000\",  # Green\n",
    "    \"#FFEBCD\",  # Blanched Almond\n",
    "    \"#7FFFD4\",  # Aquamarine\n",
    "    \"#8A2BE2\",  # Blue Violet\n",
    "    \"#A52A2A\",  # Brown\n",
    "    \"#DEB887\",  # Burly Wood\n",
    "    \"#5F9EA0\",  # Cadet Blue\n",
    "    \"#7FFF00\",  # Chartreuse\n",
    "    \"#D2691E\",  # Chocolate\n",
    "]"
   ],
   "metadata": {
    "collapsed": false,
    "pycharm": {
     "name": "#%%\n"
    }
   }
  },
  {
   "cell_type": "code",
   "execution_count": null,
   "outputs": [],
   "source": [
    "plot_lines(df_cash_time, \"Date\", \"Denominations\", \"Entity\", color_map=color_map, title=\"Annual Encashments by Party\")"
   ],
   "metadata": {
    "collapsed": false,
    "pycharm": {
     "name": "#%%\n"
    }
   }
  },
  {
   "cell_type": "code",
   "execution_count": null,
   "outputs": [],
   "source": [
    "plot_lines(df_cash_time, \"Date\", \"Cumulative\", \"Entity\", color_map=color_map, title=\"Cumulative Encashments by Party\")"
   ],
   "metadata": {
    "collapsed": false,
    "pycharm": {
     "name": "#%%\n"
    }
   }
  },
  {
   "cell_type": "code",
   "execution_count": null,
   "outputs": [],
   "source": [
    "plot_lines(df_purchase_time, \"Date\", \"Denominations\", \"Entity\", color_map=color_map, title=\"Annual Donations by Entity\")"
   ],
   "metadata": {
    "collapsed": false,
    "pycharm": {
     "name": "#%%\n"
    }
   }
  },
  {
   "cell_type": "code",
   "execution_count": null,
   "outputs": [],
   "source": [
    "plot_lines(df_purchase_time, \"Date\", \"Cumulative\", \"Entity\", color_map=color_map, title=\"Cumulative Donations by Entity\")"
   ],
   "metadata": {
    "collapsed": false,
    "pycharm": {
     "name": "#%%\n"
    }
   }
  },
  {
   "cell_type": "code",
   "execution_count": null,
   "outputs": [],
   "source": [],
   "metadata": {
    "collapsed": false,
    "pycharm": {
     "name": "#%%\n"
    }
   }
  }
 ],
 "metadata": {
  "kernelspec": {
   "display_name": "Python 3",
   "language": "python",
   "name": "python3"
  },
  "language_info": {
   "codemirror_mode": {
    "name": "ipython",
    "version": 2
   },
   "file_extension": ".py",
   "mimetype": "text/x-python",
   "name": "python",
   "nbconvert_exporter": "python",
   "pygments_lexer": "ipython2",
   "version": "2.7.6"
  }
 },
 "nbformat": 4,
 "nbformat_minor": 0
}